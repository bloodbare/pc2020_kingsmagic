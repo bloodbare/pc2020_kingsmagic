{
 "metadata": {
  "language_info": {
   "codemirror_mode": {
    "name": "ipython",
    "version": 3
   },
   "file_extension": ".py",
   "mimetype": "text/x-python",
   "name": "python",
   "nbconvert_exporter": "python",
   "pygments_lexer": "ipython3",
   "version": "3.7.7-final"
  },
  "orig_nbformat": 2,
  "kernelspec": {
   "name": "python37764bitcatotronvenv4fcde4710cc049c39a4723b5bc1652cf",
   "display_name": "Python 3.7.7 64-bit ('catotron': venv)"
  }
 },
 "nbformat": 4,
 "nbformat_minor": 2,
 "cells": [
  {
   "cell_type": "code",
   "execution_count": 1,
   "metadata": {},
   "outputs": [],
   "source": [
    "import numpy as np\n",
    "import pandas as pd\n",
    "\n",
    "import os\n",
    "import collections\n",
    "from absl import logging\n",
    "from scipy.spatial import distance\n",
    "import tensorflow as tf\n",
    "import tensorflow_hub as hub\n",
    "from datetime import datetime\n",
    "import sentencepiece as spm"
   ]
  },
  {
   "cell_type": "code",
   "execution_count": 2,
   "metadata": {},
   "outputs": [
    {
     "output_type": "stream",
     "name": "stdout",
     "text": [
      "INFO:tensorflow:Saver not created because there are no variables in the graph to restore\n",
      "INFO:tensorflow:Saver not created because there are no variables in the graph to restore\n"
     ]
    }
   ],
   "source": [
    "module = hub.Module(\"./model\")\n",
    "input_placeholder = tf.sparse_placeholder(tf.int64, shape=[None, None])\n",
    "encodings = module(\n",
    "    inputs=dict(\n",
    "        values=input_placeholder.values,\n",
    "        indices=input_placeholder.indices,\n",
    "        dense_shape=input_placeholder.dense_shape))\n"
   ]
  },
  {
   "cell_type": "code",
   "execution_count": 3,
   "metadata": {},
   "outputs": [
    {
     "output_type": "stream",
     "name": "stdout",
     "text": [
      "INFO:tensorflow:Saver not created because there are no variables in the graph to restore\n",
      "INFO:tensorflow:Saver not created because there are no variables in the graph to restore\n",
      "SentencePiece model loaded at b'./model/assets/universal_encoder_8k_spm.model'.\n"
     ]
    }
   ],
   "source": [
    "with tf.Session() as sess:\n",
    "    spm_path = sess.run(module(signature=\"spm_path\"))\n",
    "\n",
    "sp = spm.SentencePieceProcessor()\n",
    "sp.Load(spm_path)\n",
    "print(\"SentencePiece model loaded at {}.\".format(spm_path))"
   ]
  },
  {
   "cell_type": "code",
   "execution_count": 4,
   "metadata": {},
   "outputs": [],
   "source": [
    "def process_to_IDs_in_sparse_format(sp, sentences):\n",
    "  ids = [sp.EncodeAsIds(x) for x in sentences]\n",
    "  max_len = max(len(x) for x in ids)\n",
    "  dense_shape=(len(ids), max_len)\n",
    "  values=[item for sublist in ids for item in sublist]\n",
    "  indices=[[row,col] for row in range(len(ids)) for col in range(len(ids[row]))]\n",
    "  return (values, indices, dense_shape)"
   ]
  },
  {
   "cell_type": "code",
   "execution_count": 5,
   "metadata": {},
   "outputs": [
    {
     "output_type": "stream",
     "name": "stdout",
     "text": [
      "Message: Elephant\nEmbedding size: 512\nEmbedding: [0.053387485444545746, 0.053194381296634674, -0.05235603079199791, ...]\n\nMessage: I am a sentence for which I would like to get its embedding.\nEmbedding size: 512\nEmbedding: [0.03533292934298515, -0.04714975133538246, 0.012305558659136295, ...]\n\nMessage: Universal Sentence Encoder embeddings also support short paragraphs. There is no hard limit on how long the paragraph is. Roughly, the longer the more 'diluted' the embedding will be.\nEmbedding size: 512\nEmbedding: [-0.004081725142896175, -0.08954869210720062, 0.03737190365791321, ...]\n\nMessage: I like to go climbing.\nEmbedding size: 512\nEmbedding: [-0.059705447405576706, 0.018434198573231697, -0.03026321716606617, ...]\n\nMessage: I prefer mountains\nEmbedding size: 512\nEmbedding: [-0.05673089623451233, 0.021162638440728188, 0.05424637347459793, ...]\n\nMessage: We go to run every morning\nEmbedding size: 512\nEmbedding: [-0.05583438649773598, 0.058561235666275024, 0.02889111638069153, ...]\n\nMessage: How old are you?\nEmbedding size: 512\nEmbedding: [0.038685236126184464, 0.05044373497366905, -0.045523501932621, ...]\n\n"
     ]
    }
   ],
   "source": [
    "word = \"Elephant\"\n",
    "sentence = \"I am a sentence for which I would like to get its embedding.\"\n",
    "paragraph = (\n",
    "    \"Universal Sentence Encoder embeddings also support short paragraphs. \"\n",
    "    \"There is no hard limit on how long the paragraph is. Roughly, the longer \"\n",
    "    \"the more 'diluted' the embedding will be.\")\n",
    "\n",
    "sentence3 = \"I like to go climbing.\"\n",
    "sentence4 = \"I prefer mountains\"\n",
    "sentence5 = \"We go to run every morning\"\n",
    "sentence6 = \"How old are you?\"\n",
    "messages = [word, sentence, paragraph, sentence3, sentence4, sentence5, sentence6]\n",
    "\n",
    "values, indices, dense_shape = process_to_IDs_in_sparse_format(sp, messages)\n",
    "\n",
    "# Reduce logging output.\n",
    "logging.set_verbosity(logging.ERROR)\n",
    "\n",
    "with tf.Session() as session:\n",
    "  session.run([tf.global_variables_initializer(), tf.tables_initializer()])\n",
    "  message_embeddings = session.run(\n",
    "      encodings,\n",
    "      feed_dict={input_placeholder.values: values,\n",
    "                input_placeholder.indices: indices,\n",
    "                input_placeholder.dense_shape: dense_shape})\n",
    "\n",
    "  for i, message_embedding in enumerate(np.array(message_embeddings).tolist()):\n",
    "    print(\"Message: {}\".format(messages[i]))\n",
    "    print(\"Embedding size: {}\".format(len(message_embedding)))\n",
    "    message_embedding_snippet = \", \".join(\n",
    "        (str(x) for x in message_embedding[:3]))\n",
    "    print(\"Embedding: [{}, ...]\\n\".format(message_embedding_snippet))"
   ]
  },
  {
   "cell_type": "code",
   "execution_count": 6,
   "metadata": {},
   "outputs": [
    {
     "output_type": "stream",
     "name": "stdout",
     "text": [
      "Distance 3 - 4 0.397930018651406\nDistance 3 - 5 0.4438911406813929\nDistance 3 - 6 0.8192398775599674\n"
     ]
    }
   ],
   "source": [
    "vectors = np.array(message_embeddings).tolist()\n",
    "print(\"Distance 3 - 4 {}\".format(distance.cosine(vectors[3], vectors[4])))\n",
    "print(\"Distance 3 - 5 {}\".format(distance.cosine(vectors[3], vectors[5])))\n",
    "print(\"Distance 3 - 6 {}\".format(distance.cosine(vectors[3], vectors[6])))"
   ]
  },
  {
   "cell_type": "code",
   "execution_count": null,
   "metadata": {},
   "outputs": [],
   "source": []
  }
 ]
}